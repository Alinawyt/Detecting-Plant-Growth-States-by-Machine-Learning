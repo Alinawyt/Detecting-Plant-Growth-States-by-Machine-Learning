{
 "cells": [
  {
   "cell_type": "code",
   "execution_count": 5,
   "metadata": {},
   "outputs": [
    {
     "name": "stdout",
     "output_type": "stream",
     "text": [
      "Load CNN model from Detect_abnormal_leaves.pth!\n",
      "Accuracy of CNN classification: 92.31%\n"
     ]
    }
   ],
   "source": [
    "# -*- encoding: utf8 -*-\n",
    "from torch.utils.data import DataLoader\n",
    "from torchvision import transforms\n",
    "from torchvision.datasets import ImageFolder\n",
    "from torch import nn\n",
    "import os\n",
    "import torch\n",
    "import torch.nn.functional as F\n",
    "import matplotlib.pyplot as plt\n",
    "import numpy as np\n",
    "\n",
    "# Detect_abnormal_leaves\n",
    "from myCNN_2 import Net  \n",
    "\n",
    "PROJECT_PATH='./'\n",
    "DATA_TEST = os.path.join(PROJECT_PATH, \"Abnormal_Leaves_Database/test\")\n",
    "model_path = os.path.join(PROJECT_PATH, \"Detect_abnormal_leaves.pth\")\n",
    "\n",
    "def get_transform():\n",
    "    return transforms.Compose([\n",
    "            # 32 x 32\n",
    "            transforms.Resize(32),\n",
    "            transforms.CenterCrop(32),\n",
    "            transforms.ToTensor(),\n",
    "            # Normalize\n",
    "            transforms.Normalize(mean=[0.4, 0.4, 0.4],\n",
    "                                  std=[0.2, 0.2, 0.2])\n",
    "        ])\n",
    "\n",
    "def get_dataset(batch_size=10, num_workers=1):\n",
    "    data_transform = get_transform()\n",
    "    # load train_dataset\n",
    "    # train_dataset = ImageFolder(root=DATA_TRAIN, transform=data_transform)\n",
    "    # load test_dataset\n",
    "    test_dataset = ImageFolder(root=DATA_TEST, transform=data_transform)\n",
    "    # train_loader = DataLoader(train_dataset, batch_size=batch_size, shuffle=True, num_workers=num_workers)\n",
    "    test_loader = DataLoader(test_dataset, batch_size=batch_size, shuffle=False, num_workers=num_workers)\n",
    "    return test_loader\n",
    "\n",
    "test_dataloader = get_dataset(batch_size=10)\n",
    "# use model to test another database\n",
    "model = Net()\n",
    "model.load_state_dict(torch.load(model_path))\n",
    "print('Load CNN model from Detect_abnormal_leaves.pth!')\n",
    "\n",
    "# Report the final classification performance\n",
    "model.eval() \n",
    "correct = 0\n",
    "total = 0\n",
    "predictions = []\n",
    "true_labels = []\n",
    "with torch.no_grad():\n",
    "    for inputs, labels in test_dataloader:\n",
    "        outputs = model(inputs)\n",
    "        _, predicted = torch.max(outputs.data, 1)\n",
    "        total += labels.size(0)\n",
    "        # print(f\"predicted:{predicted}\\n\")\n",
    "        # print(f\"labels:{labels}\\n\")\n",
    "        correct += (predicted == labels).sum().item()\n",
    "        predictions.extend(predicted.cpu().numpy())\n",
    "        true_labels.extend(labels.cpu().numpy())\n",
    "\n",
    "accuracy = correct / total\n",
    "print(f'Accuracy of CNN classification: {accuracy * 100:.2f}%')\n"
   ]
  },
  {
   "cell_type": "code",
   "execution_count": 6,
   "metadata": {},
   "outputs": [
    {
     "data": {
      "image/png": "[encoded data removed]",
      "text/plain": [
       "<Figure size 800x600 with 2 Axes>"
      ]
     },
     "metadata": {},
     "output_type": "display_data"
    }
   ],
   "source": [
    "from sklearn.metrics import confusion_matrix\n",
    "\n",
    "# Confusion matrix\n",
    "conf_matrix = confusion_matrix(true_labels, predictions)\n",
    "\n",
    "# Plot confusion matrix\n",
    "plt.figure(figsize=(8, 6))\n",
    "plt.imshow(conf_matrix, interpolation='nearest', cmap=plt.cm.Blues)\n",
    "plt.title('Confusion Matrix')\n",
    "plt.colorbar()\n",
    "# 'Class 0', 'Class 1', 'Class 2' seedling growing mature\n",
    "classes = ['-K', '-N', '-P','FN']  # Adjust based on your classes\n",
    "tick_marks = np.arange(len(classes))\n",
    "plt.xticks(tick_marks, classes, rotation=45)\n",
    "plt.yticks(tick_marks, classes)\n",
    "\n",
    "thresh = conf_matrix.max() / 2.\n",
    "for i in range(conf_matrix.shape[0]):\n",
    "    for j in range(conf_matrix.shape[1]):\n",
    "        plt.text(j, i, format(conf_matrix[i, j], 'd'),\n",
    "                horizontalalignment=\"center\",\n",
    "                color=\"white\" if conf_matrix[i, j] > thresh else \"black\")\n",
    "\n",
    "plt.tight_layout()\n",
    "plt.ylabel('True label')\n",
    "plt.xlabel('Predicted label')\n",
    "plt.show()"
   ]
  },
  {
   "cell_type": "code",
   "execution_count": 7,
   "metadata": {},
   "outputs": [
    {
     "name": "stdout",
     "output_type": "stream",
     "text": [
      "Saved predicted result into predicted_result file!\n"
     ]
    }
   ],
   "source": [
    "import matplotlib.patches as patches\n",
    "\n",
    "# DATA_TEST = '/Users/alina./CODE/EE5003/program_final/CNN/CNN_database/test_filter'\n",
    "SAVE_PATH = './predicted_result'\n",
    "\n",
    "test_dataset = ImageFolder(root=DATA_TEST, transform=None)\n",
    "\n",
    "for i, (image, label) in enumerate(test_dataset):\n",
    "    image = image.resize((100, 100))\n",
    "\n",
    "    predicted_label = predictions[i]\n",
    "    \n",
    "    fig, ax = plt.subplots(figsize=(1, 1)) \n",
    "    ax.imshow(image)\n",
    "    \n",
    "    if predicted_label == 0:\n",
    "        rect_color = 'orange'\n",
    "        predicted_text = '-K'\n",
    "    elif predicted_label == 1:\n",
    "        rect_color = 'blue'\n",
    "        predicted_text = '-N'\n",
    "    elif predicted_label == 2:\n",
    "        rect_color = 'red'\n",
    "        predicted_text = '-P'\n",
    "    else:\n",
    "        rect_color = 'black'\n",
    "        predicted_text = 'FN'\n",
    "\n",
    "    rect = patches.Rectangle((5, 5), 90, 90, linewidth=1, edgecolor=rect_color, facecolor='none')\n",
    "    ax.add_patch(rect)\n",
    "    \n",
    "\n",
    "    ax.axis('off')\n",
    "    # plt.text(0, -5, f'Predicted Label: {predicted_label}, True: {label}', color=rect_color, fontsize=5, ha='left')\n",
    "    plt.text(0, -5, f'Predicted: {predicted_text}', color=rect_color, fontsize=6, ha='left')\n",
    "    save_filename = os.path.join(SAVE_PATH, f\"CNNpredicted_image_{i}.png\")\n",
    "    fig.savefig(save_filename, dpi=100) \n",
    "    plt.close()  \n",
    "print('Saved predicted result into predicted_result file!')"
   ]
  }
 ],
 "metadata": {
  "kernelspec": {
   "display_name": "opencv_env",
   "language": "python",
   "name": "python3"
  },
  "language_info": {
   "codemirror_mode": {
    "name": "ipython",
    "version": 3
   },
   "file_extension": ".py",
   "mimetype": "text/x-python",
   "name": "python",
   "nbconvert_exporter": "python",
   "pygments_lexer": "ipython3",
   "version": "3.11.5"
  }
 },
 "nbformat": 4,
 "nbformat_minor": 2
}
